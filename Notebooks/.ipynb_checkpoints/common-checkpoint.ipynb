{
 "cells": [
  {
   "cell_type": "markdown",
   "metadata": {},
   "source": [
    "## Common executions"
   ]
  },
  {
   "cell_type": "markdown",
   "metadata": {},
   "source": [
    "### liftOver"
   ]
  },
  {
   "cell_type": "code",
   "execution_count": null,
   "metadata": {},
   "outputs": [],
   "source": [
    "vcf_file=\"...\"\n",
    "\n",
    "plink --vcf ${vcf_file}.vcf --allow-extra-chr --chr 1-22 --recode --out ds0 \n",
    "python $PRS_TOOLS/liftOverPlink/liftOverPlink.py --map ds0.map --out lifted --chain $PRS_TOOLS/liftOverPlink/hg38ToHg19.over.chain\n",
    "python $PRS_TOOLS/liftOverPlink/rmBadLifts.py --map lifted.map --out good_lifted.map --log bad_lifted.dat\n",
    "cut -f 2 bad_lifted.dat > to_exclude.dat\n",
    "cut -f 4 lifted.bed.unlifted | sed \"/^#/d\" >> to_exclude.dat\n",
    "plink --file ds0 --recode --out lifted --exclude to_exclude.dat\n",
    "plink --ped lifted.ped --map good_lifted.map --make-bed --out ds_lifted"
   ]
  },
  {
   "cell_type": "markdown",
   "metadata": {},
   "source": [
    "### Create GWAS  "
   ]
  },
  {
   "cell_type": "code",
   "execution_count": null,
   "metadata": {},
   "outputs": [],
   "source": [
    "#### TBD params!\n",
    "\n",
    "eth=pl\n",
    "target=\"bcac_onco_eur-minus-${eth}\"\n",
    "imp=\"impX_new\"\n",
    "\n",
    "if [[ ! -d $PRS_GWASS/${target} ]]\n",
    "    echo \"Creating dir: $PRS_GWASS/${target}\"\n",
    "    mkdir -p $PRS_GWASS/${target}\n",
    "fi\n",
    "\n",
    "plink2 --bfile ds.QC --glm --pheno $PRS_DATASETS/${target}/${imp}/pheno --allow-no-sex --covar ds...TBD! --covar-name PC1,PC2,PC3,PC4,PC5 --out $PRS_GWASS/${target}/gwas\n",
    "#plink2 --bfile ds.QC --glm --pheno $PRS_DATASETS/${target}/${imp}/pheno --allow-no-sex --covar covar_reformatted --covar-name PC1,PC2,PC3,PC4,PC5,country,history,age,er,brca12 --out gwas_covar"
   ]
  }
 ],
 "metadata": {
  "kernelspec": {
   "display_name": "Python 3",
   "language": "python",
   "name": "python3"
  },
  "language_info": {
   "codemirror_mode": {
    "name": "ipython",
    "version": 3
   },
   "file_extension": ".py",
   "mimetype": "text/x-python",
   "name": "python",
   "nbconvert_exporter": "python",
   "pygments_lexer": "ipython3",
   "version": "3.8.5"
  }
 },
 "nbformat": 4,
 "nbformat_minor": 5
}
