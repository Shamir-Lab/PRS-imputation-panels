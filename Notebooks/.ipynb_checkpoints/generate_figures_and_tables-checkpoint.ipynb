{
 "cells": [
  {
   "cell_type": "markdown",
   "metadata": {},
   "source": [
    "### This Notebooks includes references and code blocks to the main source code that produced the tables in and figures in the paper \"*The predictive capacity of polygenic risk scores for disease risk is only moderately influenced by imputation panels tailored to the target population*\" by Levi el al."
   ]
  },
  {
   "cell_type": "markdown",
   "metadata": {},
   "source": [
    "#### Set workding dir to `.py` files"
   ]
  },
  {
   "cell_type": "code",
   "execution_count": null,
   "metadata": {},
   "outputs": [],
   "source": [
    "import os \n",
    "os.chdir('../')\n",
    "print(os.getcwd())\n",
    "import constants"
   ]
  },
  {
   "cell_type": "markdown",
   "metadata": {},
   "source": [
    "#### Figure 1: see `plot_plink_pca.py`"
   ]
  },
  {
   "cell_type": "markdown",
   "metadata": {},
   "source": [
    "#### Figure 3: see `aggregate_results.ipynb`"
   ]
  },
  {
   "cell_type": "markdown",
   "metadata": {},
   "source": [
    "#### Figure 4: see `aggregate_results.ipynb`"
   ]
  },
  {
   "cell_type": "markdown",
   "metadata": {},
   "source": [
    "#### Figure S1: see `aggregate_results.ipynb`"
   ]
  },
  {
   "cell_type": "markdown",
   "metadata": {},
   "source": [
    "#### Figure S2: see `aggregate_results.ipynb`"
   ]
  },
  {
   "cell_type": "markdown",
   "metadata": {},
   "source": [
    "#### Figure S2: see `aggregate_results.ipynb`"
   ]
  },
  {
   "cell_type": "markdown",
   "metadata": {},
   "source": [
    "#### Figure S3: evalute imputation panels with EAS GWAS"
   ]
  },
  {
   "cell_type": "code",
   "execution_count": null,
   "metadata": {},
   "outputs": [],
   "source": [
    "from scipy.stats import binom_test, wilcoxon\n",
    "import matplotlib.pyplot as plt\n",
    "import seaborn as sns\n",
    "import pandas as pd \n",
    "\n",
    "from name_mappings import * \n",
    "\n",
    "method_names={'pt3': 'P+T (EAS LD)', 'pt2': 'P+T (target-set LD)', 'ls': 'Lassosum'}\n",
    "target_names={'ukbb_afr': 'UKB AFR', 'ukbb_sas' : 'UKB SAS'}\n",
    "methods=['pt3', 'pt2', 'ls']\n",
    "targets=['ukbb_sas', 'ukbb_afr']\n",
    "df_all=pd.read_csv(f'{constants.OUTPUT_PATH}/prs.cv.choose_params_gc_eas_105_1_105_6.tsv', sep='\\t')\n",
    "df_all.index=df_all['prs_name']\n",
    "fig, axs = plt.subplots(2,3, figsize=(20,13))\n",
    "ind=0\n",
    "for target in targets:\n",
    "    for method in methods:\n",
    "        df_method=df_all[(df_all['method']==method) & (df_all['prs_name'].apply(lambda a: target in a)) ] # \n",
    "        df_original=df_method.loc[df_method['imp']=='original','or.all_mean_outer'].rename(d_imp_names['original'])\n",
    "        df_eur=df_method.loc[df_method['imp']=='impute2_1kg_eur','or.all_mean_outer'].rename(d_imp_names['impute2_1kg_eur'])\n",
    "        df_target=df_method.loc[df_method['imp']==f'impute2_1kg_{target.split(\"_\")[1]}','or.all_mean_outer'].rename(d_imp_names[f'impute2_1kg_{target.split(\"_\")[1]}'])\n",
    "        df_cat=pd.concat((df_original,df_eur, df_target),axis=1)\n",
    "        trait_col=pd.Series(list(df_cat.index)).apply(lambda a: a.split('_')[1])\n",
    "        df_cat.index=trait_col.index\n",
    "        df_cat.insert(0,'Trait',trait_col)\n",
    "#         print(f'=== PRS method: {method_names[method]}, Target set: {target_names[target]} ===')\n",
    "#         display(round(df_cat,2))\n",
    "# #         print(f\"pval={round(binom_test((df_cat['or_diff']>0).sum(), 3), (df_cat['or_diff']>0).count())}\")\n",
    "        pv_original=wilcoxon(df_target-df_original, alternative='greater')[1]\n",
    "        pv_eur=wilcoxon(df_target-df_eur, alternative='greater')[1]\n",
    "#         diff_mean=df_cat['or_diff'].mean()\n",
    "        ax=axs[ind//3][ind%3]\n",
    "#         ax.set_title(f\"p-value={pv:.2E}\") # mean OR difference={diff_mean:.2E}, \n",
    "        ax.set_title(f\"{method_names[method]}\")\n",
    "        print(df_cat.columns)\n",
    "        df_plot=pd.melt(df_cat, id_vars=['Trait'], value_vars=df_cat.columns[1:])\n",
    "        sns.boxplot(x='variable', y='value', data=df_plot, ax=ax, color=sns.color_palette('pastel')[0],  showfliers=False, showmeans=True, meanprops={\"markersize\":\"8\", \"markerfacecolor\": \"red\", \"markeredgecolor\": \"red\", \"zorder\": 10})\n",
    "        sns.stripplot(x='variable', y='value', data=df_plot, ax=ax, color='blue', s=6)\n",
    "        # x1, x2 = 0, 1\n",
    "        y_max=df_plot['value'].max()\n",
    "#         y, h, col = 1.05*y_max, y_max*0.01, 'k'\n",
    "        # ax.plot([x1, x1, x2, x2], [y, y+h, y+h, y], lw=1.5, c=col)\n",
    "        ax.text(0, 1.01*y_max, f\"{pv_original:.2E}\", ha='center', va='bottom', color=col)\n",
    "        ax.text(1, 1.01*y_max, f\"{pv_eur:.2E}\", ha='center', va='bottom', color=col)\n",
    "        ax.set_ylabel(\"OR per 1SD\")\n",
    "        ax.set_xlabel(\"Imputation panel\")\n",
    "        ax.set_ylim(top=ax.get_ylim()[1]*1.01)\n",
    "#         ax.set_xticklabels(df_cat.columns[1:3])\n",
    "        ind+=1\n",
    "\n"
   ]
  },
  {
   "cell_type": "markdown",
   "metadata": {},
   "source": [
    "#### Figure S4: compare size of imputation panels"
   ]
  },
  {
   "cell_type": "code",
   "execution_count": null,
   "metadata": {},
   "outputs": [],
   "source": [
    "from scipy.stats import binom_test, wilcoxon\n",
    "import matplotlib.pyplot as plt\n",
    "import seaborn as sns\n",
    "import pandas as pd \n",
    "import constants\n",
    "method_names={'pt3': 'P+T (EUR LD)', 'pt2': 'P+T (target-set LD)', 'ls': 'Lassosum'}\n",
    "target_names={'ukbb_afr': 'UKB AFR', 'ukbb_sas' : 'UKB SAS'}\n",
    "methods=['pt3', 'pt2', 'ls']\n",
    "targets=['ukbb_sas', 'ukbb_afr']\n",
    "df_all=pd.read_csv(f'{constants.OUTPUT_PATH}/prs.cv.choose_params_ukb_eur100_105_1_105_6.tsv', sep='\\t')\n",
    "df_all.index=df_all['prs_name']\n",
    "fig, axs = plt.subplots(2,3, figsize=(14,10))\n",
    "ind=0\n",
    "for target in targets:\n",
    "    for method in methods:\n",
    "        df_method=df_all[(df_all['method']==method) & (df_all['prs_name'].apply(lambda a: target in a)) ] # \n",
    "        df_500=df_method.loc[df_method['imp']=='impute2_1kg_eur','or.all_mean_outer'].rename('n=500')\n",
    "        df_100=df_method.loc[df_method['imp']=='impute2_1kg_eur100','or.all_mean_outer'].rename('n=100')\n",
    "        df_cat=pd.concat((df_100,df_500),axis=1)\n",
    "        df_cat['or_diff']=df_cat['n=500']-df_cat['n=100']\n",
    "        trait_col=pd.Series(list(df_cat.index)).apply(lambda a: a.split('_')[1])\n",
    "        df_cat.index=trait_col.index\n",
    "        df_cat.insert(0,'Trait',trait_col)\n",
    "        print(f'=== PRS method: {method_names[method]}, Target set: {target_names[target]} ===')\n",
    "        display(round(df_cat,2))\n",
    "#         print(f\"pval={round(binom_test((df_cat['or_diff']>0).sum(), 3), (df_cat['or_diff']>0).count())}\")\n",
    "        pv=wilcoxon(df_cat['or_diff'], alternative='greater')[1]\n",
    "        diff_mean=df_cat['or_diff'].mean()\n",
    "        ax=axs[ind//3][ind%3]\n",
    "#         ax.set_title(f\"p-value={pv:.2E}\") # mean OR difference={diff_mean:.2E}, \n",
    "        ax.set_title(f\"{method_names[method]}\")\n",
    "        df_plot=pd.melt(df_cat, id_vars=['Trait'], value_vars=['n=100', 'n=500'])\n",
    "        sns.boxplot(x='variable', y='value', data=df_plot, ax=ax, color=sns.color_palette('pastel')[0],  showfliers=False, showmeans=True, meanprops={\"markersize\":\"8\", \"markerfacecolor\": \"red\", \"markeredgecolor\": \"red\", \"zorder\": 10})\n",
    "        sns.stripplot(x='variable', y='value', data=df_plot, ax=ax, color='blue')\n",
    "        x1, x2 = 0, 1\n",
    "        y_max=df_plot['value'].max()\n",
    "        y, h, col = 1.05*y_max, y_max*0.01, 'k'\n",
    "        ax.plot([x1, x1, x2, x2], [y, y+h, y+h, y], lw=1.5, c=col)\n",
    "        ax.text((x1+x2)*.5, y+h, f\"{pv:.2E}\", ha='center', va='bottom', color=col)\n",
    "        ax.set_ylabel(\"OR per 1SD\")\n",
    "        ax.set_xlabel(\"Panel size\")\n",
    "#         ax.set_xticklabels(df_cat.columns[1:3])\n",
    "        ind+=1\n",
    "\n"
   ]
  },
  {
   "cell_type": "markdown",
   "metadata": {},
   "source": [
    "#### Table 1: see `snp_accuracy_analysis.ipynb`"
   ]
  },
  {
   "cell_type": "markdown",
   "metadata": {},
   "source": [
    "#### Table 3: see `snp_accuracy_analysis.ipynb`"
   ]
  },
  {
   "cell_type": "markdown",
   "metadata": {},
   "source": [
    "#### Table 4: evaluate imputation panels on public GWASs"
   ]
  },
  {
   "cell_type": "code",
   "execution_count": null,
   "metadata": {
    "scrolled": true
   },
   "outputs": [],
   "source": [
    "import os \n",
    "\n",
    "from scipy.stats import binom_test, wilcoxon\n",
    "import matplotlib.pyplot as plt\n",
    "import seaborn as sns\n",
    "import pandas as pd \n",
    "\n",
    "from name_mappings import * \n",
    "\n",
    "pm_symbol=u\"\\u00B1\"\n",
    "\n",
    "method_names={'pt3': 'P+T (EUR LD)', 'pt2': 'P+T (target-set LD)', 'ls': 'Lassosum'}\n",
    "target_names={'ukbb_afr': 'UKB AFR', 'ukbb_sas' : 'UKB SAS'}\n",
    "methods=['pt3', 'pt2', 'ls']\n",
    "targets=['ukbb_sas', 'ukbb_afr']\n",
    "df_all=pd.read_csv(f'{constants.OUTPUT_PATH}/prs.cv.choose_params_public_eur_105_1_105_6.tsv', sep='\\t')\n",
    "df_all['target']=df_all['prs_name'].apply(lambda a: a.split('_')[-1])\n",
    "mn=df_all.groupby(['target','method', 'imp'])['or.all_mean_outer'].mean()\n",
    "std=df_all.groupby(['target','method', 'imp'])['or.all_mean_outer'].std()\n",
    "df_agg=round(pd.concat((mn,std),axis=1),3)\n",
    "\n",
    "df_agg['or.all']=df_agg.apply(lambda a: f'{a.iloc[0]}{pm_symbol}{a.iloc[1]}',axis=1)\n",
    "display(df_agg['or.all'].to_frame())"
   ]
  },
  {
   "cell_type": "markdown",
   "metadata": {},
   "source": [
    "#### Table 5: evaluate imputation panels on non-UKB target sets"
   ]
  },
  {
   "cell_type": "code",
   "execution_count": null,
   "metadata": {},
   "outputs": [],
   "source": [
    "from scipy.stats import binom_test, wilcoxon\n",
    "import matplotlib.pyplot as plt\n",
    "import seaborn as sns\n",
    "import pandas as pd \n",
    "\n",
    "from name_mappings import * \n",
    "\n",
    "pm_symbol=u\"\\u00B1\"\n",
    "\n",
    "methods=['pt3', 'pt2', 'ls']\n",
    "targets=['ukbb_sas', 'ukbb_afr']\n",
    "df_afr=pd.read_csv(f'{constants.OUTPUT_PATH}/prs.cv.choose_params_scz_eur_afr_105_1_105_6.tsv', sep='\\t')\n",
    "df_afr['target']=df_afr['prs_name'].apply(lambda a: a.split('_')[-1])\n",
    "# display(df_afr)\n",
    "mn=df_afr.groupby(['method',  'imp'])['or.all_mean_outer'].first()\n",
    "std=df_afr.groupby(['method', 'imp'])['or.all_se_outer'].first()\n",
    "df_agg_afr=round(pd.concat((mn,std),axis=1),3)\n",
    "df_agg_afr['or.all']=df_agg_afr.apply(lambda a: f'{a.iloc[0]}{pm_symbol}{a.iloc[1]}',axis=1)\n",
    "df_agg_afr_col=df_agg_afr['or.all'].to_frame().rename(columns={\"or.all\":\"gain_afr\"})\n",
    "\n",
    "df_aj=pd.read_csv(f'{constants.OUTPUT_PATH}/prs.cv.choose_params_scz_eur_aj_105_1_105_6.tsv', sep='\\t')\n",
    "df_aj['target']=df_aj['prs_name'].apply(lambda a: a.split('_')[-1])\n",
    "# display(df_afr)\n",
    "mn=df_aj.groupby(['method',  'imp'])['or.all_mean_outer'].first()\n",
    "std=df_aj.groupby(['method', 'imp'])['or.all_se_outer'].first()\n",
    "df_agg_aj=round(pd.concat((mn,std),axis=1),3)\n",
    "df_agg_aj['or.all']=df_agg_aj.apply(lambda a: f'{a.iloc[0]}{pm_symbol}{a.iloc[1]}',axis=1)\n",
    "df_agg_aj_col=df_agg_aj['or.all'].to_frame().rename(columns={\"or.all\":\"dbg_scz19\"})\n",
    "df_agg_aj_col.index=[(a[0], a[1][:-1]) for a in df_agg_aj_col.index]\n",
    "display(pd.concat((df_agg_afr_col, df_agg_aj_col), axis=1))"
   ]
  },
  {
   "cell_type": "markdown",
   "metadata": {},
   "source": [
    "#### Table S2: see `snp_accuracy_analysis.ipynb`"
   ]
  },
  {
   "cell_type": "markdown",
   "metadata": {},
   "source": [
    "#### Table S3: see `snp_accuracy_analysis.ipynb`"
   ]
  },
  {
   "cell_type": "markdown",
   "metadata": {},
   "source": [
    "#### Table S6: evaluate imputation panels on non-UKB target sets using EAS GWAS"
   ]
  },
  {
   "cell_type": "code",
   "execution_count": null,
   "metadata": {},
   "outputs": [],
   "source": [
    "from scipy.stats import binom_test, wilcoxon\n",
    "import matplotlib.pyplot as plt\n",
    "import seaborn as sns\n",
    "import pandas as pd \n",
    "\n",
    "from name_mappings import * \n",
    "\n",
    "pm_symbol=u\"\\u00B1\"\n",
    "\n",
    "methods=['pt3', 'pt2', 'ls']\n",
    "targets=['ukbb_sas', 'ukbb_afr']\n",
    "df_afr=pd.read_csv(f'{constants.OUTPUT_PATH}/prs.cv.choose_params_scz_eas_105_1_105_6.tsv', sep='\\t')\n",
    "df_afr['target']=df_afr['prs_name'].apply(lambda a: a.split('_')[-1])\n",
    "# display(df_afr)\n",
    "mn=df_afr.groupby(['method',  'imp'])['or.all_mean_outer'].first()\n",
    "std=df_afr.groupby(['method', 'imp'])['or.all_se_outer'].first()\n",
    "df_agg_afr=round(pd.concat((mn,std),axis=1),3)\n",
    "df_agg_afr['or.all']=df_agg_afr.apply(lambda a: f'{a.iloc[0]}{pm_symbol}{a.iloc[1]}',axis=1)\n",
    "df_agg_afr_col=df_agg_afr['or.all'].to_frame().rename(columns={\"or.all\":\"gain_afr\"})\n",
    "df_agg_afr_col=df_agg_afr_col[df_agg_afr_col.index.to_frame().apply(lambda a: \"2\"!=a.loc[\"imp\"][-1], axis=1)]\n",
    "\n",
    "df_aj=pd.read_csv(f'{constants.OUTPUT_PATH}/prs.cv.choose_params_scz_eas_105_1_105_6.tsv', sep='\\t')\n",
    "df_aj['target']=df_aj['prs_name'].apply(lambda a: a.split('_')[-1])\n",
    "# display(df_afr)\n",
    "mn=df_aj.groupby(['method',  'imp'])['or.all_mean_outer'].first()\n",
    "std=df_aj.groupby(['method', 'imp'])['or.all_se_outer'].first()\n",
    "df_agg_aj=round(pd.concat((mn,std),axis=1),3)\n",
    "df_agg_aj['or.all']=df_agg_aj.apply(lambda a: f'{a.iloc[0]}{pm_symbol}{a.iloc[1]}',axis=1)\n",
    "df_agg_aj_col=df_agg_aj['or.all'].to_frame().rename(columns={\"or.all\":\"dbg_scz19\"})\n",
    "df_agg_aj_col=df_agg_aj_col[df_agg_aj_col.index.to_frame().apply(lambda a: \"2\"==a.loc[\"imp\"][-1], axis=1)]\n",
    "df_agg_aj_col.index=[(a[0], a[1][:-1]) if a[1][-1]=='2' else (a[0], a[1]) for a in df_agg_aj_col.index]\n",
    "\n",
    "df_out=pd.concat((df_agg_afr_col, df_agg_aj_col), axis=1)\n",
    "display(df_out)\n",
    "# display(df_out[df_out.index.to_frame().apply(lambda a: \"2\"==a.loc[\"imp\"][-1], axis=1)])\n",
    "# display(df_out[df_out.loc[:,\"imp\"].apply(lambda a: \"2\" in a)])"
   ]
  }
 ],
 "metadata": {
  "kernelspec": {
   "display_name": "Python 3",
   "language": "python",
   "name": "python3"
  },
  "language_info": {
   "codemirror_mode": {
    "name": "ipython",
    "version": 3
   },
   "file_extension": ".py",
   "mimetype": "text/x-python",
   "name": "python",
   "nbconvert_exporter": "python",
   "pygments_lexer": "ipython3",
   "version": "3.8.5"
  }
 },
 "nbformat": 4,
 "nbformat_minor": 4
}
