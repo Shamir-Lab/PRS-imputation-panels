{
 "cells": [
  {
   "cell_type": "markdown",
   "metadata": {},
   "source": [
    "## Evaluate imputation panels on UKB data"
   ]
  },
  {
   "cell_type": "markdown",
   "metadata": {},
   "source": [
    "#### Calc PRS for UKB GWASs"
   ]
  },
  {
   "cell_type": "code",
   "execution_count": null,
   "metadata": {},
   "outputs": [],
   "source": [
    "# available imps: \"impute2_1kg_eur\" \"impute2_1kg_sas\" \"impute2_1kg_afr\" \"imputeX_new\" \"imputeX_ibs\"\n",
    "# phenos of UKB: \"t2d\" \"osar\" \"hfvr\" \"chol\" \"ht\" \"ast\"\n",
    "# targets : \"ukbb_sas\" \"ukbb_afr\"\n",
    "\n",
    "\n",
    "discovery_pops=(\"eur\" \"gbr\")\n",
    "declare -a phenos=(\"hyty\" \"gerx\" \"madd\" \"angna\" \"utfi\" \"ctrt\") # (\"height\") # (\"ast\" \"t2d\" \"osar\" \"hfvr\" \"chol\" \"ht\" \"height\")\n",
    "declare -a targets=(\"ukbb_afr\" \"ukbb_sas\")  \n",
    "declare -a imps=(\"impute2_1kg_eur\" \"impute2_1kg_sas\" \"impute2_1kg_afr\") # (\"impute2_1kg_eur100\" \"impute2_1kg_eur\" \"impute2_1kg_sas\" \"impute2_1kg_afr\" \"imputeX_new\" \"impute2_1kg_ibs\" \"impute2_1kg_eur-minus-gbr\" \"impute2_1kg_eur100\") \n",
    "declare -A continuouss=(['utfi']='false' ['ctrt']='false' ['angna']='false' ['gerx']='false' ['madd']='false' ['hyty']='false') # (['height']='true') # (['ast']='false' ['t2d']='false' ['osar']='false'  ['hfvr']='false' ['chol']='false' ['ht']='false' ['height']='true') # ['D2_hdlp_willer_2013']='false' ['D_t2d_mahajan_2018']='false' \n",
    "for discovery_pop in ${discovery_pops[@]}; do\n",
    "    for pheno in ${phenos[@]}; do \n",
    "        discovery=\"UKB_${pheno}_${discovery_pop}\"\n",
    "        continuous=${continuouss[${pheno}]}\n",
    "        for target in ${targets[@]}; do\n",
    "             for imp in ${imps[@]}; do # \n",
    "                 echo $PRS_DATASETS/${target}/${imp}\n",
    "                    if [[ -d $PRS_DATASETS/${target}/${imp} ]]; then\n",
    "                     bash calc_prs.sh --target ${target} --imp ${imp} --discovery ${discovery} --stage 5 --pheno ${pheno} --continuous ${continuous} --pval_th 0.001,0.005,0.01,0.05,0.1,0.2,0.3,0.4,0.5;\n",
    "                 fi       \n",
    "             done\n",
    "        done\n",
    "    done \n",
    "done"
   ]
  },
  {
   "cell_type": "markdown",
   "metadata": {},
   "source": [
    "\n",
    "#### Calc PRS for Public GWASs"
   ]
  },
  {
   "cell_type": "code",
   "execution_count": null,
   "metadata": {},
   "outputs": [],
   "source": [
    "# available imps: \"impute2_1kg_eur\" \"impute2_1kg_sas\" \"impute2_1kg_afr\" \"imputeX_new\" \"imputeX_ibs\"\n",
    "# phenos of UKB: \"t2d\" \"osar\" \"hfvr\" \"chol\" \"ht\" \"ast\"\n",
    "# public GWASs corresponding to UKB phenos: \"D2_ldlp_willer_2013\" \"D2_chol_willer_2013\" \"D2_hdlp_willer_2013\" \"D2_sysp_evangelou_2018\" \"D2_dias_evangelou_2018\" \"D2_asth_zhu_2019\" \"D_t2d_mahajan_2018\" \"D2_t2di_mahajan_2018\"\n",
    "\n",
    "declare -a targets=(\"ukbb_sas\" \"ukbb_afr\")\n",
    "declare -a imps=(\"impute2_1kg_eur100-minus-gbr\") (\"impute2_1kg_eur\" \"impute2_1kg_sas\" \"impute2_1kg_afr\" \"imputeX_new\" \"impute2_1kg_ibs\" \"impute2_1kg_eur-minus-gbr\" \"impute2_1kg_eur100\") \n",
    "declare -A gwas_to_pheno=(['D2_hght_yengo_2018']='height' ['D2_ldlp_willer_2013']='chol' ['D2_chol_willer_2013']='chol'  ['D2_sysp_evangelou_2018']='ht' ['D2_dias_evangelou_2018']='ht' ['D2_asth_zhu_2019']='ast' ['D2_t2di_mahajan_2018']='t2d') # ['D2_hdlp_willer_2013']='chol' ['D_t2d_mahajan_2018']='t2d' \n",
    "declare -A continuouss=(['D2_hght_yengo_2018']='true' ['D2_ldlp_willer_2013']='false' ['D2_chol_willer_2013']='false'  ['D2_sysp_evangelou_2018']='false' ['D2_dias_evangelou_2018']='false' ['D2_asth_zhu_2019']='false' ['D2_t2di_mahajan_2018']='false') # ['D2_hdlp_willer_2013']='false' ['D_t2d_mahajan_2018']='false' \n",
    "for discovery in ${!gwas_to_pheno[@]} ; do \n",
    "    pheno=${gwas_to_pheno[${discovery}]}\n",
    "    continuous=${continuouss[${discovery}]}\n",
    "    for target in ${targets[@]}; do\n",
    "         for imp in ${imps[@]}; do\n",
    "             if [[ -d $PRS_DATASETS/${target}/${imp} ]]; then\n",
    "                 echo \"bash calc_prs.sh --target ${target} --imp ${imp} --discovery ${discovery} --stage 0 --pheno ${pheno} --pval_th 0.001,0.005,0.01,0.05,0.1,0.2,0.3,0.4,0.5\";\n",
    "                 bash calc_prs.sh --target ${target} --imp ${imp} --discovery ${discovery} --stage 0 --pheno ${pheno} --continuous ${continuous} --pval_th 0.001,0.005,0.01,0.05,0.1,0.2,0.3,0.4,0.5;\n",
    "             fi       \n",
    "         done\n",
    "    done\n",
    "done"
   ]
  }
 ],
 "metadata": {
  "kernelspec": {
   "display_name": "Python 3",
   "language": "python",
   "name": "python3"
  },
  "language_info": {
   "codemirror_mode": {
    "name": "ipython",
    "version": 3
   },
   "file_extension": ".py",
   "mimetype": "text/x-python",
   "name": "python",
   "nbconvert_exporter": "python",
   "pygments_lexer": "ipython3",
   "version": "3.8.5"
  }
 },
 "nbformat": 4,
 "nbformat_minor": 5
}
