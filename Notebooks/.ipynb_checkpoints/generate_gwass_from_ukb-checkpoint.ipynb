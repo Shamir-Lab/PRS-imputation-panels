{
 "cells": [
  {
   "cell_type": "markdown",
   "metadata": {},
   "source": [
    "### Generate GWAS "
   ]
  },
  {
   "cell_type": "markdown",
   "metadata": {},
   "source": [
    "#### Generation from a specific dataset derived from the UKB"
   ]
  },
  {
   "cell_type": "code",
   "execution_count": null,
   "metadata": {},
   "outputs": [],
   "source": [
    "pheno=\"ctrt\" # \"t2d\" \"osar\" \"hfvr\" \"chol\" \"ht\" \"ast\"\n",
    "pop=\"eur\"\n",
    "bash generate_gwas.sh --target ukbb_${pop} --imp imputeX_new --pheno ${pheno} --discovery UKB_${pheno}_${pop} --stage 2"
   ]
  },
  {
   "cell_type": "markdown",
   "metadata": {},
   "source": [
    "#### Alternatively, you can generate GWAS from the base UKB dataset"
   ]
  },
  {
   "cell_type": "code",
   "execution_count": null,
   "metadata": {},
   "outputs": [],
   "source": [
    "pheno=\"ctrt\" # \"t2d\" \"osar\" \"hfvr\" \"chol\" \"ht\" \"ast\" ## \"hyty\" \"gerx\" \"madd\" \"utfi\" \"angna\" \"ctrt\"\n",
    "pops=(\"gbr\" \"eur\")\n",
    "for pop in ${pops[@]}; do \n",
    "    bash generate_gwas.sh --target ukbb --imp imputeX --pop ${pop} --pheno ${pheno} --discovery UKB_${pheno}_${pop} --stage 2;\n",
    "done\n"
   ]
  }
 ],
 "metadata": {
  "kernelspec": {
   "display_name": "Python 3",
   "language": "python",
   "name": "python3"
  },
  "language_info": {
   "codemirror_mode": {
    "name": "ipython",
    "version": 3
   },
   "file_extension": ".py",
   "mimetype": "text/x-python",
   "name": "python",
   "nbconvert_exporter": "python",
   "pygments_lexer": "ipython3",
   "version": "3.8.5"
  }
 },
 "nbformat": 4,
 "nbformat_minor": 5
}
