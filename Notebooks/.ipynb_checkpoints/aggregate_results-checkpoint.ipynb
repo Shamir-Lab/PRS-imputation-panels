{
 "cells": [
  {
   "cell_type": "markdown",
   "metadata": {},
   "source": [
    "### This notebook aggregates the underlying data for the figures and the tables\n",
    "### I addition, it also generates files for some of the figures.\n",
    "#### <span style='color:red'>Note that this notebook **do not** create the results of the nested cross validation pipeline</span> "
   ]
  },
  {
   "cell_type": "code",
   "execution_count": null,
   "metadata": {},
   "outputs": [],
   "source": [
    "import importlib\n",
    "\n",
    "import os\n",
    "os.chdir('../')\n",
    "from multiprocessing import Pool\n",
    "import numpy as np\n",
    "import pandas as pd\n",
    "import constants\n",
    "import utils\n",
    "\n",
    "from aggregate_prs_statistics_cv_generic import aggregate_statistics_cv_mp\n",
    "from aggregate_prs_statistics_cv_generic import aggregate_statistics_cv\n",
    "from aggregate_folds_cv_generic import aggregate_folds_cv_multi_test\n",
    "from choose_model import choose_model"
   ]
  },
  {
   "cell_type": "code",
   "execution_count": null,
   "metadata": {},
   "outputs": [],
   "source": [
    "# This function faciliates multi-process execution of aggregate_statistics_cv\n",
    "def aggregate_statistics_cv_mp(args):\n",
    "    discoveries, targets, imps, method, hyperparameters, cv_folds, rep, suffix = args\n",
    "    aggregate_statistics_cv(discoveries, targets, imps, method, hyperparameters, cv_folds, rep, suffix)"
   ]
  },
  {
   "cell_type": "markdown",
   "metadata": {},
   "source": [
    "### Parameter defintions: choose the parameters according to the figure that you wish to produce"
   ]
  },
  {
   "cell_type": "markdown",
   "metadata": {},
   "source": [
    "#### Figure 3 + S1 + S2"
   ]
  },
  {
   "cell_type": "code",
   "execution_count": null,
   "metadata": {},
   "outputs": [],
   "source": [
    "discoveries = [f\"UKB_{a}_eur\" for a in [\"ctrt\", \"chol\", \"hfvr\", \"hyty\", \"ht\", \"osar\", \"madd\", \"t2d\", \"ast\", \"utfi\", \"gerx\", \"angna\"]]\n",
    "targets = [\"ukbb_sas\", 'ukbb_afr'] \n",
    "imps = [\"impute2_1kg_eur\",\"impute2_1kg_sas\",\"impute2_1kg_afr\"]\n",
    "\n",
    "methods=[\"pt2\", \"pt3\", \"ls\"] \n",
    "suffix=\"ukb_eur\"\n",
    "\n",
    "field_names=[\"or.all\", \"or.90\"]\n",
    "\n",
    "rep_start=\"105_1\"\n",
    "rep_end=\"105_6\""
   ]
  },
  {
   "cell_type": "markdown",
   "metadata": {},
   "source": [
    "#### Table 4"
   ]
  },
  {
   "cell_type": "code",
   "execution_count": null,
   "metadata": {},
   "outputs": [],
   "source": [
    "discoveries = [\"D2_sysp_evangelou_2018\", \"D2_ldlp_willer_2013\", \"D2_t2di_mahajan_2018\", \"D2_gerx_an_2019\", \"D2_madd_howard_2019\"]\n",
    "targets = [\"ukbb_sas\", \"ukbb_afr\"]\n",
    "imps = [\"impute2_1kg_eur\",\"impute2_1kg_eas\",\"impute2_1kg_afr\"] \n",
    "\n",
    "methods=[\"pt2\", \"pt3\", \"ls\"] \n",
    "suffix=\"public_eur\"\n",
    "\n",
    "field_names=[\"or.all\", \"or.90\"]\n",
    "\n",
    "rep_start=\"105_1\"\n",
    "rep_end=\"105_6\""
   ]
  },
  {
   "cell_type": "markdown",
   "metadata": {},
   "source": [
    "#### Table 5"
   ]
  },
  {
   "cell_type": "code",
   "execution_count": null,
   "metadata": {},
   "outputs": [],
   "source": [
    "discoveries = [\"PGC2_noAJ\"]\n",
    "targets = [\"dbg-scz19\", \"gain_afr\"]\n",
    "imps = [\"impute2_1kg_eur\",\"impute2_1kg_eas\",\"impute2_1kg_afr\",\"impute2_1kg_eur2\",\"impute2_1kg_eas2\",\"impute2_1kg_afr2\"] \n",
    "\n",
    "methods=[\"pt2\", \"pt3\", \"ls\"] \n",
    "suffix=\"scz_eur\"\n",
    "\n",
    "field_names=[\"or.all\", \"or.90\"]\n",
    "\n",
    "rep_start=\"105_1\"\n",
    "rep_end=\"105_6\""
   ]
  },
  {
   "cell_type": "markdown",
   "metadata": {},
   "source": [
    "#### Figure 4"
   ]
  },
  {
   "cell_type": "code",
   "execution_count": null,
   "metadata": {},
   "outputs": [],
   "source": [
    "discoveries = [\"PGC2_noAJ\"]\n",
    "targets = [\"dbg-scz19\"]\n",
    "imps = [\"impute2_ajkg14_t101\",\"impute2_1kg_ceu2\",\"impute2_1kg_gbr2\",\"impute2_1kg_fin2\",\"impute2_1kg_ibs2\",\"impute2_1kg_tsi2\"] \n",
    "\n",
    "methods=[\"pt2\", \"pt3\", \"ls\"] \n",
    "suffix=\"scz_aj\"\n",
    "\n",
    "field_names=[\"or.all\", \"or.90\"]\n",
    "\n",
    "rep_start=\"105_1\"\n",
    "rep_end=\"105_6\""
   ]
  },
  {
   "cell_type": "markdown",
   "metadata": {},
   "source": [
    "#### Figure S2"
   ]
  },
  {
   "cell_type": "code",
   "execution_count": null,
   "metadata": {},
   "outputs": [],
   "source": [
    "discoveries = [f\"UKB_{a}_eur\" for a in [\"ctrt\", \"chol\", \"hfvr\", \"hyty\", \"ht\", \"osar\", \"madd\", \"t2d\", \"ast\", \"utfi\", \"gerx\", \"angna\"]]\n",
    "targets = [\"ukbb_sas\"] \n",
    "imps = [\"impute2_1kg_eur\",\"impute2_1kg_sas\",\"impute2_1kg_afr\"]\n",
    "\n",
    "methods=[\"ld\"] \n",
    "suffix=\"ukb_eur_ld\"\n",
    "\n",
    "field_names=[\"or.all\", \"or.90\"]\n",
    "\n",
    "rep_start=\"105_1\"\n",
    "rep_end=\"105_6\""
   ]
  },
  {
   "cell_type": "markdown",
   "metadata": {},
   "source": [
    "#### Figure S3"
   ]
  },
  {
   "cell_type": "code",
   "execution_count": null,
   "metadata": {},
   "outputs": [],
   "source": [
    "discoveries = [f\"GC_{a}_sakaue_2021\" for a in [\"ctrt\", \"chol\", \"hfvr\", \"hyty\", \"ht\", \"osar\", \"madd\", \"t2d\", \"ast\", \"utfi\", \"gerx\", \"angna\"]]\n",
    "targets = [\"ukbb_sas\", 'ukbb_afr'] \n",
    "imps = [\"impute2_1kg_eur\",\"impute2_1kg_sas\",\"impute2_1kg_afr\"]\n",
    "\n",
    "methods=[\"pt2\", \"pt3\", \"ls\"] \n",
    "suffix=\"gc_eas\"\n",
    "\n",
    "field_names=[\"or.all\", \"or.90\"]\n",
    "\n",
    "rep_start=\"105_1\"\n",
    "rep_end=\"105_6\""
   ]
  },
  {
   "cell_type": "markdown",
   "metadata": {},
   "source": [
    "#### Figure S4\n"
   ]
  },
  {
   "cell_type": "code",
   "execution_count": null,
   "metadata": {},
   "outputs": [],
   "source": [
    "discoveries = [f\"UKB_{a}_eur\" for a in [\"ctrt\", \"chol\", \"hfvr\", \"hyty\", \"ht\", \"osar\", \"madd\", \"t2d\", \"ast\", \"utfi\", \"gerx\", \"angna\"]]\n",
    "targets = [\"ukbb_sas\", 'ukbb_afr'] \n",
    "imps = [\"impute2_1kg_eur\", \"impute2_1kg_eur100\"]\n",
    "\n",
    "methods=[\"pt2\", \"pt3\", \"ls\"] \n",
    "suffix=\"ukb_eur100\"\n",
    "\n",
    "field_names=[\"or.all\", \"or.90\"]\n",
    "\n",
    "rep_start=\"105_1\"\n",
    "rep_end=\"105_6\""
   ]
  },
  {
   "cell_type": "markdown",
   "metadata": {},
   "source": [
    "#### Table S6"
   ]
  },
  {
   "cell_type": "code",
   "execution_count": null,
   "metadata": {},
   "outputs": [],
   "source": [
    "discoveries = [\"LH_PGC-SCZ-EAS\", \"LH_PGC-SCZ-EAS_LS\"]\n",
    "targets = [\"dbg-scz19\", \"gain_afr\"]\n",
    "imps = [\"impute2_1kg_eur\",\"impute2_1kg_eas\",\"impute2_1kg_afr\",\"impute2_1kg_eur2\",\"impute2_1kg_eas2\",\"impute2_1kg_afr2\"] \n",
    "\n",
    "methods=[\"pt2\", \"pt3\", \"ls\"] \n",
    "suffix=\"scz_eas\"\n",
    "\n",
    "field_names=[\"or.all\", \"or.90\"]\n",
    "\n",
    "rep_start=\"105_1\"\n",
    "rep_end=\"105_6\""
   ]
  },
  {
   "cell_type": "markdown",
   "metadata": {},
   "source": [
    "### Aggregate the data obtanied from all CV"
   ]
  },
  {
   "cell_type": "markdown",
   "metadata": {},
   "source": [
    "#### aggregate_prs_statistics_cv aggregate_folds_cv"
   ]
  },
  {
   "cell_type": "code",
   "execution_count": null,
   "metadata": {},
   "outputs": [],
   "source": [
    "from aggregate_prs_statistics_cv_generic import aggregate_statistics_cv\n",
    "from aggregate_folds_cv_generic import aggregate_folds_cv_multi_test\n",
    "\n",
    "# file_name_formats=[\"prs.cv.{}{{{}}}.statistics_summary_{{}}{{{}}}.tsv\", \"prs.cv.pt3{{}}.statistics_summary_{}{{}}.tsv\", \"prs.cv.ls{{}}.statistics_summary_{}{{}}.tsv\"] # [\"prs.cv.ld{{}}.statistics_summary_{}{{}}.tsv\"]\n",
    "\n",
    "for method in methods: # [\"pt2\", \"pt3\", \"ls\", \"ld\"]:\n",
    "    base_rep = 105\n",
    "    n_reps = 6\n",
    "    cv_folds=5\n",
    "    if method == \"ls\":\n",
    "        hyperparameters = [f'{a}-{b}' for a in [0.2, 0.5, 0.9, 1] for b in range(1, 21)]\n",
    "    elif method == \"ld\" and not discoveries[0]==\"PGC2_noAJ\":\n",
    "        hyperparameters=[str(a) for a in range(1,103)]\n",
    "        base_rep = 102\n",
    "        cv_folds=2\n",
    "        n_reps = 3\n",
    "    else:\n",
    "        hyperparameters = [\"0.00000005\", \"0.00G00001\", \"0.000001\", \"0.00001\", \"0.0001\", \"0.001\", \"0.005\", \"0.01\",\n",
    "                           \"0.05\", \"0.1\", \"0.2\", \"0.3\", \"0.4\", \"0.5\"]\n",
    "    \n",
    "    rep_start=f\"{base_rep}_1\"\n",
    "    rep_end=f\"{base_rep}_{n_reps}\"\n",
    "    \n",
    "    ## aggregate_prs ##\n",
    "    for cur_rep in range(1, n_reps + 1):\n",
    "        rep = f\"{base_rep}_{cur_rep}\"\n",
    "        aggregate_statistics_cv_params.append(\n",
    "            [discoveries, targets, imps, method, hyperparameters, cv_folds, rep, f'{suffix}_{rep}'])\n",
    "        aggregate_statistics_cv_mp(\n",
    "            [discoveries, targets, imps, method, hyperparameters, cv_folds, rep, f'{suffix}_{rep}'])\n",
    "    \n",
    "    # aggregate_folds ##\n",
    "    cur_file_name_format=\"prs.cv.{}{{}}.statistics_summary_{}{{}}.tsv\"\n",
    "    aggregate_folds_cv_multi_test(cur_file_name_format.format(method, suffix), field_names, discoveries, targets, imps=imps, out_suffix=suffix, rep_start=rep_start, rep_end=rep_end)\n",
    "        \n",
    "#     with Pool(50) as p:\n",
    "#         print(p.map(aggregate_statistics_cv_mp, aggregate_statistics_cv_params))\n",
    "\n"
   ]
  },
  {
   "cell_type": "markdown",
   "metadata": {},
   "source": [
    " ### Choose the best parameters for the outer folds"
   ]
  },
  {
   "cell_type": "markdown",
   "metadata": {},
   "source": [
    "#### choose_params"
   ]
  },
  {
   "cell_type": "code",
   "execution_count": null,
   "metadata": {},
   "outputs": [],
   "source": [
    "import choose_model\n",
    "importlib.reload(choose_model)\n",
    "from choose_model import choose_model\n",
    "\n",
    "metrics=['or.all','or.90']\n",
    "choose_model(methods, rep_start, rep_end, metrics, suffix)"
   ]
  },
  {
   "cell_type": "markdown",
   "metadata": {},
   "source": [
    "### Plott the figures: choose the parameters according the the figure that you wish to produce"
   ]
  },
  {
   "cell_type": "markdown",
   "metadata": {},
   "source": [
    "#### plot_by_imputation_panel"
   ]
  },
  {
   "cell_type": "code",
   "execution_count": null,
   "metadata": {},
   "outputs": [],
   "source": [
    "import plot_by_imputation_panel\n",
    "importlib.reload(plot_by_imputation_panel)\n",
    "from plot_by_imputation_panel import plot_or_by_imputation\n",
    "\n",
    "file_name_format=\"prs.cv.choose_params_{}_{}.tsv\""
   ]
  },
  {
   "cell_type": "markdown",
   "metadata": {},
   "source": [
    "#### Figures 3A"
   ]
  },
  {
   "cell_type": "code",
   "execution_count": null,
   "metadata": {},
   "outputs": [],
   "source": [
    "targets=targets\n",
    "imps_figure = imps\n",
    "methods_figure = ['ls']\n",
    "suffix_figure = f\"all_{suffix}_super_pop\"\n",
    "plot_or_by_imputation(file_name_format.format(suffix, f'{rep_start}_{rep_end}'),\n",
    "                      prs_names=\"\", discoveries=discoveries, targets=targets_figure, imps=imps_figure,\n",
    "                      methods=methods_figure, suffix=suffix_figure)"
   ]
  },
  {
   "cell_type": "markdown",
   "metadata": {},
   "source": [
    "#### Figures 3B,S1: SAS results"
   ]
  },
  {
   "cell_type": "code",
   "execution_count": null,
   "metadata": {},
   "outputs": [],
   "source": [
    "targets_figure = [\"ukbb_sas\"]\n",
    "imps_figure = [\"original\", \"impute2_1kg_eur\", \"impute2_1kg_sas\"]\n",
    "methods_figure = ['pt2', 'pt3']\n",
    "suffix_figure = f\"{target}_{suffix}_super_pop\"\n",
    "plot_or_by_imputation(file_name_format.format(suffix, f'{rep_start}_{rep_end}'), \n",
    "                      prs_names=\"\", discoveries=discoveries, targets=targets_figure, imps=imps_figure, \n",
    "                      methods=methods_figure, suffix=suffix_figure)"
   ]
  },
  {
   "cell_type": "markdown",
   "metadata": {},
   "source": [
    "#### Figures 3C, S1: AFR results"
   ]
  },
  {
   "cell_type": "code",
   "execution_count": null,
   "metadata": {},
   "outputs": [],
   "source": [
    "targets_figure = [\"ukbb_afr\"]  \n",
    "imps_figure = [\"original\", \"impute2_1kg_eur\", \"impute2_1kg_afr\"] \n",
    "methods_figure = ['pt2', 'pt3']\n",
    "suffix_figure = f\"{target}_{suffix}_super_pop\"\n",
    "plot_or_by_imputation(file_name_format.format(suffix, f'{rep_start}_{rep_end}'),\n",
    "                      prs_names=\"\", discoveries=discoveries, targets=targets_figure, imps=imps_figure,\n",
    "                      methods=methods, methods_figure=suffix_figure)"
   ]
  },
  {
   "cell_type": "markdown",
   "metadata": {},
   "source": [
    "#### Figure 4"
   ]
  },
  {
   "cell_type": "code",
   "execution_count": null,
   "metadata": {},
   "outputs": [],
   "source": [
    "targets_figure = targets\n",
    "imps_figure = imps\n",
    "methods_figure = methods\n",
    "suffix_figure = f\"{target}_{suffix}_pop\"\n",
    "plot_or_by_imputation(file_name_format.format(suffix, f'{rep_start}_{rep_end}'), \n",
    "                      prs_names=\"\", discoveries=discoveries, targets=targets_figure, \n",
    "                      imps=imps_figure, methods=methods, suffix=suffix_figure)"
   ]
  },
  {
   "cell_type": "markdown",
   "metadata": {},
   "source": [
    "#### Figure S2"
   ]
  },
  {
   "cell_type": "code",
   "execution_count": null,
   "metadata": {},
   "outputs": [],
   "source": [
    "targets_figure = targets\n",
    "imps_figure = imps\n",
    "methods_figure = methods\n",
    "suffix_figure = f\"{target}_{suffix}_ld_super_pop\"\n",
    "plot_or_by_imputation(file_name_format.format(suffix, f'{rep_start}_{rep_end}'),\n",
    "                      prs_names=\"\", discoveries=discoveries, targets=targets_figure, imps=imps_figure,\n",
    "                      methods=methods, suffix=suffix_figure)"
   ]
  }
 ],
 "metadata": {
  "kernelspec": {
   "display_name": "Python 3",
   "language": "python",
   "name": "python3"
  },
  "language_info": {
   "codemirror_mode": {
    "name": "ipython",
    "version": 3
   },
   "file_extension": ".py",
   "mimetype": "text/x-python",
   "name": "python",
   "nbconvert_exporter": "python",
   "pygments_lexer": "ipython3",
   "version": "3.8.5"
  }
 },
 "nbformat": 4,
 "nbformat_minor": 4
}
